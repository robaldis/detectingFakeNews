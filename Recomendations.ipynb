{
 "cells": [
  {
   "cell_type": "code",
   "execution_count": 81,
   "metadata": {},
   "outputs": [],
   "source": [
    "import torch\n",
    "import pandas as pd\n",
    "from sklearn.feature_extraction.text import TfidfVectorizer\n",
    "from sklearn.metrics.pairwise import cosine_similarity\n"
   ]
  },
  {
   "cell_type": "code",
   "execution_count": 80,
   "metadata": {},
   "outputs": [
    {
     "data": {
      "text/plain": [
       "tensor([[0.7428, 0.7686, 0.7276,  ..., 0.7105, 0.7253, 0.7546],\n",
       "        [0.7325, 0.7754, 0.7859,  ..., 0.7542, 0.7317, 0.7539],\n",
       "        [0.6830, 0.7138, 0.7625,  ..., 0.7496, 0.7239, 0.7552],\n",
       "        ...,\n",
       "        [0.7795, 0.7601, 0.7606,  ..., 0.7118, 0.7656, 0.7530],\n",
       "        [0.7508, 0.7619, 0.7568,  ..., 0.7649, 0.7349, 0.7900],\n",
       "        [0.7718, 0.7475, 0.7207,  ..., 0.7440, 0.7347, 0.7051]])"
      ]
     },
     "execution_count": 80,
     "metadata": {},
     "output_type": "execute_result"
    }
   ],
   "source": [
    "input1 = torch.rand(100,128,128)\n",
    "input2 = torch.rand(100,128,128)\n",
    "cos = torch.nn.CosineSimilarity()\n",
    "output = cos(input1, input2)\n",
    "output"
   ]
  },
  {
   "cell_type": "code",
   "execution_count": 93,
   "metadata": {},
   "outputs": [],
   "source": [
    "news = pd.read_csv('news.csv')\n",
    "\n",
    "vectorizer = TfidfVectorizer(stop_words='english')\n",
    "tfidf_train = vectorizer.fit_transform(news['text'])"
   ]
  },
  {
   "cell_type": "code",
   "execution_count": 94,
   "metadata": {},
   "outputs": [],
   "source": [
    "tfidf_tensor = torch.Tensor(tfidf_train.todense())\n",
    "# print(tfidf_train.size)\n",
    "# print(tfidf_tensor.size())\n",
    "cos = torch.nn.CosineSimilarity(dim=1, eps=1e-6)\n",
    "output = cosine_similarity(tfidf_tensor,tfidf_tensor)"
   ]
  },
  {
   "cell_type": "code",
   "execution_count": 83,
   "metadata": {},
   "outputs": [
    {
     "name": "stdout",
     "output_type": "stream",
     "text": [
      "tensor([[0., 0., 0.,  ..., 0., 0., 0.],\n",
      "        [0., 0., 0.,  ..., 0., 0., 0.]])\n",
      "<class 'scipy.sparse.csr.csr_matrix'>\n",
      "[[1.         0.         0.         ... 0.         0.         0.        ]\n",
      " [0.         1.         0.         ... 0.0224036  0.         0.02263735]\n",
      " [0.         0.         1.0000001  ... 0.         0.         0.        ]\n",
      " ...\n",
      " [0.         0.0224036  0.         ... 1.0000002  0.         0.02972867]\n",
      " [0.         0.         0.         ... 0.         1.0000001  0.        ]\n",
      " [0.         0.02263735 0.         ... 0.02972867 0.         1.        ]]\n"
     ]
    }
   ],
   "source": [
    "print(tfidf_tensor[:2])\n",
    "print(type(tfidf_train))\n",
    "print(output)"
   ]
  },
  {
   "cell_type": "code",
   "execution_count": null,
   "metadata": {},
   "outputs": [],
   "source": []
  },
  {
   "cell_type": "code",
   "execution_count": 100,
   "metadata": {},
   "outputs": [
    {
     "name": "stdout",
     "output_type": "stream",
     "text": [
      "News article looking at: You Can Smell Hillary’s Fear\n",
      "Recomendations:\n",
      "FBI REDUX: What’s Behind New Probe into Hillary Clinton Emails?\n",
      "Memo to Comey: Keep Your Damn Hands Off Our Elections\n",
      "FBI “Insurrection” to Scuttle Director, Rig Election\n",
      "Clinton Camp Tries to Deflect Suspicion as FBI Reopens Email Case\n",
      "NBC's Baghdad Bob: There Is No FBI Investigation of Hillary | Frontpage Mag\n"
     ]
    }
   ],
   "source": [
    "similar = list(enumerate(output[0]))\n",
    "similar = sorted(similar, key=lambda x: x[1], reverse=True)\n",
    "similar = similar[1:6]\n",
    "movie_index = [i[0] for i in similar]\n",
    "titles = news['title'].iloc[movie_index]\n",
    "\n",
    "print(f\"News article looking at: {news['title'].iloc[0]}\")\n",
    "print(\"Recomendations:\")\n",
    "for text in titles:\n",
    "    print(text)"
   ]
  }
 ],
 "metadata": {
  "kernelspec": {
   "display_name": "Python 3",
   "language": "python",
   "name": "python3"
  },
  "language_info": {
   "codemirror_mode": {
    "name": "ipython",
    "version": 3
   },
   "file_extension": ".py",
   "mimetype": "text/x-python",
   "name": "python",
   "nbconvert_exporter": "python",
   "pygments_lexer": "ipython3",
   "version": "3.8.5"
  }
 },
 "nbformat": 4,
 "nbformat_minor": 4
}
